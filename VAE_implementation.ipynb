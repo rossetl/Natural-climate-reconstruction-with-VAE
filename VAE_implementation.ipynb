{
  "nbformat": 4,
  "nbformat_minor": 0,
  "metadata": {
    "colab": {
      "name": "VAE_implementation.ipynb",
      "provenance": [],
      "authorship_tag": "ABX9TyOOGXMl99VCchOgspoYYqTo"
    },
    "kernelspec": {
      "name": "python3",
      "display_name": "Python 3"
    },
    "language_info": {
      "name": "python"
    }
  },
  "cells": [
    {
      "cell_type": "markdown",
      "metadata": {
        "id": "llUZURcctUEJ"
      },
      "source": [
        "# \"*Natural climate reconstruction in the Stave Churches through time series processing with variational autoencoders*\"\n",
        "\n",
        "**FFPython2**\n",
        "\n",
        "Noemi Manara 2022909\n",
        "\n",
        "Lorenzo Rosset 2021859\n",
        "\n",
        "Francesco Zambelli 2029014\n",
        "\n",
        "Andrea Zanola 2027588"
      ]
    },
    {
      "cell_type": "code",
      "metadata": {
        "id": "L47Tl-xEtPoL"
      },
      "source": [
        "!git clone https://github.com/rossetl/Natural-climate-reconstruction-with-VAE.git"
      ],
      "execution_count": null,
      "outputs": []
    },
    {
      "cell_type": "markdown",
      "metadata": {
        "id": "GjjF1Lnvtd15"
      },
      "source": [
        "# **Part 2: Implementation of Variational Autoencoders for the time series reconstruction task**\n",
        "\n",
        "In the following sections we are going to show some implementations of Variational Autouncoders built in order to reconstruct the hystorical climate of the Ringebu church."
      ]
    },
    {
      "cell_type": "code",
      "metadata": {
        "id": "4sVsuW6ytkEu"
      },
      "source": [
        ""
      ],
      "execution_count": null,
      "outputs": []
    }
  ]
}